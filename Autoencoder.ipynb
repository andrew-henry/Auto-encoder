{
  "nbformat": 4,
  "nbformat_minor": 0,
  "metadata": {
    "colab": {
      "name": "Autoencoder.ipynb",
      "provenance": [],
      "collapsed_sections": []
    },
    "kernelspec": {
      "name": "python3",
      "display_name": "Python 3"
    },
    "language_info": {
      "name": "python"
    }
  },
  "cells": [
    {
      "cell_type": "code",
      "execution_count": 1,
      "metadata": {
        "id": "N5Fp2dYxQ5ol"
      },
      "outputs": [],
      "source": [
        "import tensorflow as tf"
      ]
    },
    {
      "cell_type": "code",
      "source": [
        "tf.__version__"
      ],
      "metadata": {
        "colab": {
          "base_uri": "https://localhost:8080/",
          "height": 35
        },
        "id": "N4jtO1qkRDyG",
        "outputId": "b802eef3-b295-48cd-dbf6-eecb481fb417"
      },
      "execution_count": 2,
      "outputs": [
        {
          "output_type": "execute_result",
          "data": {
            "text/plain": [
              "'2.8.0'"
            ],
            "application/vnd.google.colaboratory.intrinsic+json": {
              "type": "string"
            }
          },
          "metadata": {},
          "execution_count": 2
        }
      ]
    },
    {
      "cell_type": "code",
      "source": [
        "import tensorflow.keras as keras"
      ],
      "metadata": {
        "id": "MLdgT_HURIhd"
      },
      "execution_count": 3,
      "outputs": []
    },
    {
      "cell_type": "markdown",
      "source": [
        "n = compression of the data to 'n' latent variables\n",
        "\n",
        "m = number of total features "
      ],
      "metadata": {
        "id": "96pe9MTxTEDI"
      }
    },
    {
      "cell_type": "code",
      "source": [
        "import tensorflow as tf\n",
        "\n",
        "\n",
        "class Autoencoder(keras.Model):\n",
        "\n",
        "    def __init__(self, encoding_dim = n):\n",
        "\n",
        "        super(Autoencoder, self).__init__()\n",
        "        \n",
        "        self.encode = keras.layers.Dense(encoding_dim, activation='relu')\n",
        "\n",
        "        self.decode = keras.layers.Dense(m, activation='sigmoid')\n",
        "    \n",
        "    def call(self, inputs):\n",
        "\n",
        "        encoded = self.encode(inputs)\n",
        "\n",
        "        decoded = self.decode(encoded)\n",
        "        \n",
        "        return decoded"
      ],
      "metadata": {
        "id": "DtT97a5ISZjy"
      },
      "execution_count": 4,
      "outputs": []
    },
    {
      "cell_type": "code",
      "source": [
        ""
      ],
      "metadata": {
        "id": "zYzkegpCSLoN"
      },
      "execution_count": 4,
      "outputs": []
    }
  ]
}